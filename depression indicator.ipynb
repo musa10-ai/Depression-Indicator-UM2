{
 "cells": [
  {
   "cell_type": "code",
   "execution_count": 138,
   "id": "31c0ebcd",
   "metadata": {},
   "outputs": [],
   "source": [
    "#Lecturer Name: Dr Aznul Qalid Bin Md Sabri \n",
    "\n",
    "#Group Name: RG\n",
    "\n",
    "#Group Members :\n",
    "\n",
    "#Reem Idres (S2128921) ---Occurence 1\n",
    "#Musa Khan  (S2041393) ---Occurence 4\n",
    "#Arham Hossain (S2121048) ---Occurence 3\n",
    "#Satryo Daffa Pradhana (S2110822) ---Occurence 2\n",
    "#Mohamed Taha  (S2034212) ---Occurence 4"
   ]
  },
  {
   "cell_type": "code",
   "execution_count": 141,
   "id": "774fb019",
   "metadata": {},
   "outputs": [
    {
     "name": "stdout",
     "output_type": "stream",
     "text": [
      "...................................Depression Indicator............................................\n"
     ]
    }
   ],
   "source": [
    "print(\"...................................Depression Indicator............................................\")"
   ]
  },
  {
   "cell_type": "code",
   "execution_count": 87,
   "id": "33e5763f",
   "metadata": {},
   "outputs": [],
   "source": [
    "import numpy as np\n",
    "import pandas as pd\n",
    "\n",
    "import xgboost\n",
    "\n",
    "from sklearn.model_selection import train_test_split\n",
    "from sklearn.model_selection import GridSearchCV\n",
    "from sklearn.metrics import roc_auc_score\n",
    "\n",
    "import matplotlib.pyplot as plt"
   ]
  },
  {
   "cell_type": "code",
   "execution_count": 88,
   "id": "86f4a000",
   "metadata": {},
   "outputs": [],
   "source": [
    "#1.Read the depression dataset"
   ]
  },
  {
   "cell_type": "code",
   "execution_count": 90,
   "id": "231edd42",
   "metadata": {},
   "outputs": [
    {
     "data": {
      "text/html": [
       "<div>\n",
       "<style scoped>\n",
       "    .dataframe tbody tr th:only-of-type {\n",
       "        vertical-align: middle;\n",
       "    }\n",
       "\n",
       "    .dataframe tbody tr th {\n",
       "        vertical-align: top;\n",
       "    }\n",
       "\n",
       "    .dataframe thead th {\n",
       "        text-align: right;\n",
       "    }\n",
       "</style>\n",
       "<table border=\"1\" class=\"dataframe\">\n",
       "  <thead>\n",
       "    <tr style=\"text-align: right;\">\n",
       "      <th></th>\n",
       "      <th>Weight loss/lack of appetite</th>\n",
       "      <th>Social/Anti-social</th>\n",
       "      <th>Vitamin deficiency</th>\n",
       "      <th>Productivity level</th>\n",
       "      <th>Performance in academic life</th>\n",
       "      <th>Probability of Depression</th>\n",
       "      <th>Depress</th>\n",
       "      <th>Class of Depression</th>\n",
       "    </tr>\n",
       "  </thead>\n",
       "  <tbody>\n",
       "    <tr>\n",
       "      <th>0</th>\n",
       "      <td>1</td>\n",
       "      <td>1</td>\n",
       "      <td>1</td>\n",
       "      <td>0.0</td>\n",
       "      <td>0.0</td>\n",
       "      <td>1.0</td>\n",
       "      <td>1</td>\n",
       "      <td>severe</td>\n",
       "    </tr>\n",
       "    <tr>\n",
       "      <th>1</th>\n",
       "      <td>1</td>\n",
       "      <td>1</td>\n",
       "      <td>0</td>\n",
       "      <td>0.1</td>\n",
       "      <td>1.0</td>\n",
       "      <td>0.9</td>\n",
       "      <td>1</td>\n",
       "      <td>severe</td>\n",
       "    </tr>\n",
       "    <tr>\n",
       "      <th>2</th>\n",
       "      <td>1</td>\n",
       "      <td>1</td>\n",
       "      <td>1</td>\n",
       "      <td>0.0</td>\n",
       "      <td>0.0</td>\n",
       "      <td>1.0</td>\n",
       "      <td>1</td>\n",
       "      <td>severe</td>\n",
       "    </tr>\n",
       "    <tr>\n",
       "      <th>3</th>\n",
       "      <td>1</td>\n",
       "      <td>1</td>\n",
       "      <td>0</td>\n",
       "      <td>0.2</td>\n",
       "      <td>1.0</td>\n",
       "      <td>0.4</td>\n",
       "      <td>1</td>\n",
       "      <td>mild</td>\n",
       "    </tr>\n",
       "    <tr>\n",
       "      <th>4</th>\n",
       "      <td>1</td>\n",
       "      <td>1</td>\n",
       "      <td>0</td>\n",
       "      <td>0.0</td>\n",
       "      <td>0.0</td>\n",
       "      <td>0.9</td>\n",
       "      <td>1</td>\n",
       "      <td>severe</td>\n",
       "    </tr>\n",
       "    <tr>\n",
       "      <th>...</th>\n",
       "      <td>...</td>\n",
       "      <td>...</td>\n",
       "      <td>...</td>\n",
       "      <td>...</td>\n",
       "      <td>...</td>\n",
       "      <td>...</td>\n",
       "      <td>...</td>\n",
       "      <td>...</td>\n",
       "    </tr>\n",
       "    <tr>\n",
       "      <th>584</th>\n",
       "      <td>1</td>\n",
       "      <td>0</td>\n",
       "      <td>1</td>\n",
       "      <td>0.3</td>\n",
       "      <td>0.2</td>\n",
       "      <td>0.3</td>\n",
       "      <td>1</td>\n",
       "      <td>Mild</td>\n",
       "    </tr>\n",
       "    <tr>\n",
       "      <th>585</th>\n",
       "      <td>0</td>\n",
       "      <td>1</td>\n",
       "      <td>0</td>\n",
       "      <td>0.4</td>\n",
       "      <td>0.1</td>\n",
       "      <td>0.2</td>\n",
       "      <td>1</td>\n",
       "      <td>Mild</td>\n",
       "    </tr>\n",
       "    <tr>\n",
       "      <th>586</th>\n",
       "      <td>1</td>\n",
       "      <td>1</td>\n",
       "      <td>0</td>\n",
       "      <td>0.5</td>\n",
       "      <td>0.4</td>\n",
       "      <td>0.0</td>\n",
       "      <td>0</td>\n",
       "      <td>None</td>\n",
       "    </tr>\n",
       "    <tr>\n",
       "      <th>587</th>\n",
       "      <td>0</td>\n",
       "      <td>1</td>\n",
       "      <td>1</td>\n",
       "      <td>0.3</td>\n",
       "      <td>0.2</td>\n",
       "      <td>0.7</td>\n",
       "      <td>1</td>\n",
       "      <td>Severe</td>\n",
       "    </tr>\n",
       "    <tr>\n",
       "      <th>588</th>\n",
       "      <td>0</td>\n",
       "      <td>0</td>\n",
       "      <td>0</td>\n",
       "      <td>0.1</td>\n",
       "      <td>0.0</td>\n",
       "      <td>0.1</td>\n",
       "      <td>1</td>\n",
       "      <td>Mild</td>\n",
       "    </tr>\n",
       "  </tbody>\n",
       "</table>\n",
       "<p>589 rows × 8 columns</p>\n",
       "</div>"
      ],
      "text/plain": [
       "     Weight loss/lack of appetite  Social/Anti-social  Vitamin deficiency  \\\n",
       "0                               1                   1                   1   \n",
       "1                               1                   1                   0   \n",
       "2                               1                   1                   1   \n",
       "3                               1                   1                   0   \n",
       "4                               1                   1                   0   \n",
       "..                            ...                 ...                 ...   \n",
       "584                             1                   0                   1   \n",
       "585                             0                   1                   0   \n",
       "586                             1                   1                   0   \n",
       "587                             0                   1                   1   \n",
       "588                             0                   0                   0   \n",
       "\n",
       "     Productivity level  Performance in academic life  \\\n",
       "0                   0.0                           0.0   \n",
       "1                   0.1                           1.0   \n",
       "2                   0.0                           0.0   \n",
       "3                   0.2                           1.0   \n",
       "4                   0.0                           0.0   \n",
       "..                  ...                           ...   \n",
       "584                 0.3                           0.2   \n",
       "585                 0.4                           0.1   \n",
       "586                 0.5                           0.4   \n",
       "587                 0.3                           0.2   \n",
       "588                 0.1                           0.0   \n",
       "\n",
       "     Probability of Depression  Depress Class of Depression  \n",
       "0                          1.0        1              severe  \n",
       "1                          0.9        1              severe  \n",
       "2                          1.0        1              severe  \n",
       "3                          0.4        1                mild  \n",
       "4                          0.9        1              severe  \n",
       "..                         ...      ...                 ...  \n",
       "584                        0.3        1                Mild  \n",
       "585                        0.2        1                Mild  \n",
       "586                        0.0        0                None  \n",
       "587                        0.7        1              Severe  \n",
       "588                        0.1        1                Mild  \n",
       "\n",
       "[589 rows x 8 columns]"
      ]
     },
     "execution_count": 90,
     "metadata": {},
     "output_type": "execute_result"
    }
   ],
   "source": [
    "path='Downloads\\depressiondataset3Copy.csv'\n",
    "dataset = pd.read_csv(path)\n",
    "dataset"
   ]
  },
  {
   "cell_type": "code",
   "execution_count": 143,
   "id": "1caf4d86",
   "metadata": {},
   "outputs": [
    {
     "name": "stdout",
     "output_type": "stream",
     "text": [
      "According to the outcome, we recommend people diagnosed with mild depression to:\n",
      "1.Socialise more\n",
      "2.Open about it to their family members\n",
      "3.Involve meditation,excercise regularly into thier lifestyle\n",
      "4.Get more sun exposure\n",
      "5.Join Mental Health Improvement classes\n",
      "\n"
     ]
    }
   ],
   "source": [
    "print(\"According to the outcome, we recommend people diagnosed with mild depression to:\\n\"+\n",
    "       \"1.Socialise more\\n\"+\n",
    "       \"2.Open about it to their family members\\n\" +\n",
    "       \"3.Involve meditation,excercise regularly into thier lifestyle\\n\"+\n",
    "       \"4.Get more sun exposure\\n\" +\n",
    "       \"5.Join Mental Health Improvement classes\\n\")    "
   ]
  },
  {
   "cell_type": "code",
   "execution_count": 142,
   "id": "c8420a56",
   "metadata": {},
   "outputs": [
    {
     "name": "stdout",
     "output_type": "stream",
     "text": [
      "According to the outcome, we recommend people diagnosed with severe depression to:\n",
      "1.Go on regular therapy sessions\n",
      "2.Try taking anti-depressant drugs, if dont want therapy sessions\n",
      "3.Try to be have people around you most of the time to avoid the negative thoughts\n",
      "\n"
     ]
    }
   ],
   "source": [
    "print(\"According to the outcome, we recommend people diagnosed with severe depression to:\\n\"+\n",
    "       \"1.Go on regular therapy sessions\\n\"+\n",
    "       \"2.Try taking anti-depressant drugs, if dont want therapy sessions\\n\" +\n",
    "       \"3.Try to be have people around you most of the time to avoid the negative thoughts\\n\")      "
   ]
  },
  {
   "cell_type": "code",
   "execution_count": 91,
   "id": "dff26ecd",
   "metadata": {},
   "outputs": [],
   "source": [
    "#2.Divide dataset into training & validation dataset\n",
    "#random selection on dataset: 20% under validation, 80% under training "
   ]
  },
  {
   "cell_type": "code",
   "execution_count": 92,
   "id": "ab4f9eed",
   "metadata": {},
   "outputs": [
    {
     "data": {
      "text/plain": [
       "((471, 6), (118, 6), (471,), (118,))"
      ]
     },
     "execution_count": 92,
     "metadata": {},
     "output_type": "execute_result"
    }
   ],
   "source": [
    "var_columns = [c for c in dataset.columns if c not in ['Depress','Class of Depression']]\n",
    "X = dataset.loc[:, var_colums]\n",
    "y = dataset.loc[:, 'Depress']\n",
    "\n",
    "X_train, X_valid, y_train, y_valid = train_test_split(X, y, test_size=0.2)# \n",
    "#20% of dataset is randomly selected to be part of validation dataset \n",
    "X_train.shape, X_valid.shape, y_train.shape, y_valid.shape"
   ]
  },
  {
   "cell_type": "code",
   "execution_count": null,
   "id": "d360ec1f",
   "metadata": {},
   "outputs": [],
   "source": [
    "#from this it can be seen that 471 rows are part of training dataset & reamining 118 are part of validation dataset."
   ]
  },
  {
   "cell_type": "code",
   "execution_count": 95,
   "id": "30d6e419",
   "metadata": {},
   "outputs": [],
   "source": [
    "#3.Create xgboost model"
   ]
  },
  {
   "cell_type": "code",
   "execution_count": 96,
   "id": "860836b1",
   "metadata": {},
   "outputs": [
    {
     "data": {
      "text/plain": [
       "{'objective': 'binary:logistic',\n",
       " 'use_label_encoder': False,\n",
       " 'base_score': None,\n",
       " 'booster': None,\n",
       " 'callbacks': None,\n",
       " 'colsample_bylevel': None,\n",
       " 'colsample_bynode': None,\n",
       " 'colsample_bytree': None,\n",
       " 'early_stopping_rounds': None,\n",
       " 'enable_categorical': False,\n",
       " 'eval_metric': None,\n",
       " 'gamma': None,\n",
       " 'gpu_id': None,\n",
       " 'grow_policy': None,\n",
       " 'importance_type': None,\n",
       " 'interaction_constraints': None,\n",
       " 'learning_rate': None,\n",
       " 'max_bin': None,\n",
       " 'max_cat_to_onehot': None,\n",
       " 'max_delta_step': None,\n",
       " 'max_depth': None,\n",
       " 'max_leaves': None,\n",
       " 'min_child_weight': None,\n",
       " 'missing': nan,\n",
       " 'monotone_constraints': None,\n",
       " 'n_estimators': 100,\n",
       " 'n_jobs': None,\n",
       " 'num_parallel_tree': None,\n",
       " 'predictor': None,\n",
       " 'random_state': None,\n",
       " 'reg_alpha': None,\n",
       " 'reg_lambda': None,\n",
       " 'sampling_method': None,\n",
       " 'scale_pos_weight': None,\n",
       " 'subsample': None,\n",
       " 'tree_method': None,\n",
       " 'validate_parameters': None,\n",
       " 'verbosity': None}"
      ]
     },
     "execution_count": 96,
     "metadata": {},
     "output_type": "execute_result"
    }
   ],
   "source": [
    "xgboost.XGBClassifier().get_params()"
   ]
  },
  {
   "cell_type": "code",
   "execution_count": 97,
   "id": "4fb6caf3",
   "metadata": {},
   "outputs": [],
   "source": [
    "#set some of the hyperparameter values,such as the learning rate, max depth for each trees, no of trees at each depth,"
   ]
  },
  {
   "cell_type": "code",
   "execution_count": 98,
   "id": "dab7ed4f",
   "metadata": {},
   "outputs": [
    {
     "name": "stdout",
     "output_type": "stream",
     "text": [
      "[0]\tvalidation_0-auc:0.69721\n",
      "[1]\tvalidation_0-auc:0.68374\n",
      "[2]\tvalidation_0-auc:0.68781\n",
      "[3]\tvalidation_0-auc:0.69204\n",
      "[4]\tvalidation_0-auc:0.70865\n",
      "[5]\tvalidation_0-auc:0.70175\n",
      "[6]\tvalidation_0-auc:0.70426\n",
      "[7]\tvalidation_0-auc:0.71632\n",
      "[8]\tvalidation_0-auc:0.72071\n",
      "[9]\tvalidation_0-auc:0.71632\n",
      "[10]\tvalidation_0-auc:0.69737\n",
      "[11]\tvalidation_0-auc:0.69831\n",
      "[12]\tvalidation_0-auc:0.69204\n",
      "[13]\tvalidation_0-auc:0.69330\n",
      "[14]\tvalidation_0-auc:0.69674\n",
      "[15]\tvalidation_0-auc:0.69424\n",
      "[16]\tvalidation_0-auc:0.70896\n",
      "[17]\tvalidation_0-auc:0.71209\n",
      "[18]\tvalidation_0-auc:0.71867\n"
     ]
    },
    {
     "name": "stderr",
     "output_type": "stream",
     "text": [
      "C:\\ProgramData\\Anaconda3\\lib\\site-packages\\xgboost\\sklearn.py:793: UserWarning: `early_stopping_rounds` in `fit` method is deprecated for better compatibility with scikit-learn, use `early_stopping_rounds` in constructor or`set_params` instead.\n",
      "  warnings.warn(\n"
     ]
    },
    {
     "data": {
      "text/plain": [
       "XGBClassifier(base_score=0.5, booster='gbtree', callbacks=None,\n",
       "              colsample_bylevel=1, colsample_bynode=1, colsample_bytree=0.5,\n",
       "              early_stopping_rounds=None, enable_categorical=False,\n",
       "              eval_metric='auc', gamma=0, gpu_id=-1, grow_policy='depthwise',\n",
       "              importance_type=None, interaction_constraints='',\n",
       "              learning_rate=0.1, max_bin=256, max_cat_to_onehot=4,\n",
       "              max_delta_step=0, max_depth=5, max_leaves=0, min_child_weight=1,\n",
       "              missing=nan, monotone_constraints='()', n_estimators=100,\n",
       "              n_jobs=0, num_parallel_tree=1, predictor='auto', random_state=0,\n",
       "              reg_alpha=0, reg_lambda=1, ...)"
      ]
     },
     "execution_count": 98,
     "metadata": {},
     "output_type": "execute_result"
    }
   ],
   "source": [
    "#create an object of the class XGBClassifier \n",
    "model_xgboost = xgboost.XGBClassifier(\n",
    "    learning_rate=0.1\n",
    "    max_depth=5, \n",
    "    n_estimators=100, #model creates max :100 trees\n",
    "    subsample=0.5, #50% of training dataset is randomly selected to create each tree;useful to prevent overfitting \n",
    "    colsample_bytree=0.5,#50% of features is randomly selected when a new tree is built\n",
    "    eval_metric='auc',#model will be evaluated using area-under-the curve as a metric while model is being trained\n",
    "    verbosity=1)\n",
    "\n",
    "#evaluate the dataset while model is being trained-->x & y variables\n",
    "eval_set = [(X_valid, y_valid)]\n",
    "#call fit function to train model \n",
    "model_xgboost.fit(\n",
    "    X_train,\n",
    "    y_train,\n",
    "    early_stopping_rounds=10,#after 10 iterations of validation dataset,if model performance doesnt change, model stops & no more trees is built\n",
    "    eval_set=eval_set,\n",
    "    verbose=True)\n",
    "                "
   ]
  },
  {
   "cell_type": "code",
   "execution_count": 99,
   "id": "2ef0d44a",
   "metadata": {},
   "outputs": [],
   "source": [
    "#total no of trees=18"
   ]
  },
  {
   "cell_type": "code",
   "execution_count": 100,
   "id": "86bc4fd3",
   "metadata": {},
   "outputs": [],
   "source": [
    "#4. Evaluate model performance using AUC confusion matrix based on first iteration on the model."
   ]
  },
  {
   "cell_type": "code",
   "execution_count": 101,
   "id": "7b5c3993",
   "metadata": {},
   "outputs": [
    {
     "name": "stdout",
     "output_type": "stream",
     "text": [
      "AUC for Training dataset: 0.7986\n",
      "AUC for Validation dataset: 0.7207\n"
     ]
    }
   ],
   "source": [
    "#by using a function--->predict_proba , we can predict the training & validation dataset values.\n",
    "y_train_pred = model_xgboost.predict_proba(X_train)[:,1]\n",
    "y_valid_pred = model_xgboost.predict_proba(X_valid)[:,1]\n",
    "#pass our y variable which is 'Probability of Depression' to function roc_auc_score ; this gives the AUC confusion metric values\n",
    "print(\"AUC for Training dataset: {:.4f}\\nAUC for Validation dataset:+\n",
    "      \"{:.4f}\".format(roc_auc_score(y_train, y_train_pred),\n",
    "                                                    roc_auc_score(y_valid, y_valid_pred)))"
   ]
  },
  {
   "cell_type": "code",
   "execution_count": null,
   "id": "115c403c",
   "metadata": {},
   "outputs": [],
   "source": [
    "#5.Hyperparameter Tuning- to get the best parameters by using cross validation technique\n",
    "#Performance on validation dataset will increase if we are able to tune our hyperparameter\n",
    "#Three parameters are being used, which are:\n",
    "#1. Learning rate list\n",
    "#2. Max depth list\n",
    "#3. no of estimators list\n",
    "# The list of possible values of these hyperparameters has been transformed into a dictionary \n",
    "# because that's the format required by GridSearchCV"
   ]
  },
  {
   "cell_type": "code",
   "execution_count": 103,
   "id": "6be2e429",
   "metadata": {},
   "outputs": [
    {
     "name": "stdout",
     "output_type": "stream",
     "text": [
      "Total combination of hyperparameters tried :  27\n"
     ]
    },
    {
     "data": {
      "text/plain": [
       "{'learning_rate': [0.02, 0.05, 0.1],\n",
       " 'max_depth': [2, 3, 5],\n",
       " 'n_estimators': [1000, 2000, 300]}"
      ]
     },
     "execution_count": 103,
     "metadata": {},
     "output_type": "execute_result"
    }
   ],
   "source": [
    "#initialise some hyperparameters:learning rate,max depth values, no of tree(estimators)\n",
    "learning_rate_list = [0.02, 0.05, 0.1]\n",
    "max_depth_list = [2, 3, 5]\n",
    "n_estimators_list = [1000, 2000, 300]\n",
    "\n",
    "params_dict = {\"learning_rate\": learning_rate_list,\n",
    "               \"max_depth\": max_depth_list,\n",
    "               \"n_estimators\": n_estimators_list}\n",
    "\n",
    "num_combinations = 1\n",
    "for v in params_dict.values(): num_combinations *= len(v) \n",
    "\n",
    "print(\"Total combination of hyperparameters tried : \", num_combinations)\n",
    "params_dict"
   ]
  },
  {
   "cell_type": "code",
   "execution_count": 104,
   "id": "98f40988",
   "metadata": {},
   "outputs": [],
   "source": [
    "#6.GridSearchCV is passed.A custom scoring function based on sklearn's roc_auc_score() which calculates area under the curve\n",
    "#is used.\n",
    "#CV value=2, meaning dataset is split into 2 parts for cross validation, and it will undergo 2 iteration\n",
    "#each iteration is done on the training as well as validation dataset"
   ]
  },
  {
   "cell_type": "code",
   "execution_count": 105,
   "id": "c23367a3",
   "metadata": {},
   "outputs": [
    {
     "name": "stdout",
     "output_type": "stream",
     "text": [
      "Fitting 2 folds for each of 27 candidates, totalling 54 fits\n",
      "[CV 1/2] END learning_rate=0.02, max_depth=2, n_estimators=1000;, score=(train=0.886, test=0.695) total time=   0.5s\n",
      "[CV 2/2] END learning_rate=0.02, max_depth=2, n_estimators=1000;, score=(train=0.752, test=0.865) total time=   0.6s\n",
      "[CV 1/2] END learning_rate=0.02, max_depth=2, n_estimators=2000;, score=(train=0.900, test=0.709) total time=   1.1s\n",
      "[CV 2/2] END learning_rate=0.02, max_depth=2, n_estimators=2000;, score=(train=0.760, test=0.864) total time=   1.1s\n",
      "[CV 1/2] END learning_rate=0.02, max_depth=2, n_estimators=300;, score=(train=0.865, test=0.678) total time=   0.1s\n",
      "[CV 2/2] END learning_rate=0.02, max_depth=2, n_estimators=300;, score=(train=0.720, test=0.860) total time=   0.1s\n",
      "[CV 1/2] END learning_rate=0.02, max_depth=3, n_estimators=1000;, score=(train=0.889, test=0.695) total time=   0.5s\n",
      "[CV 2/2] END learning_rate=0.02, max_depth=3, n_estimators=1000;, score=(train=0.756, test=0.864) total time=   0.5s\n",
      "[CV 1/2] END learning_rate=0.02, max_depth=3, n_estimators=2000;, score=(train=0.901, test=0.709) total time=   1.1s\n",
      "[CV 2/2] END learning_rate=0.02, max_depth=3, n_estimators=2000;, score=(train=0.762, test=0.863) total time=   1.1s\n",
      "[CV 1/2] END learning_rate=0.02, max_depth=3, n_estimators=300;, score=(train=0.867, test=0.682) total time=   0.1s\n",
      "[CV 2/2] END learning_rate=0.02, max_depth=3, n_estimators=300;, score=(train=0.735, test=0.863) total time=   0.1s\n",
      "[CV 1/2] END learning_rate=0.02, max_depth=5, n_estimators=1000;, score=(train=0.890, test=0.695) total time=   0.6s\n",
      "[CV 2/2] END learning_rate=0.02, max_depth=5, n_estimators=1000;, score=(train=0.757, test=0.861) total time=   0.6s\n",
      "[CV 1/2] END learning_rate=0.02, max_depth=5, n_estimators=2000;, score=(train=0.901, test=0.710) total time=   1.1s\n",
      "[CV 2/2] END learning_rate=0.02, max_depth=5, n_estimators=2000;, score=(train=0.762, test=0.859) total time=   1.2s\n",
      "[CV 1/2] END learning_rate=0.02, max_depth=5, n_estimators=300;, score=(train=0.868, test=0.685) total time=   0.1s\n",
      "[CV 2/2] END learning_rate=0.02, max_depth=5, n_estimators=300;, score=(train=0.737, test=0.861) total time=   0.1s\n",
      "[CV 1/2] END learning_rate=0.05, max_depth=2, n_estimators=1000;, score=(train=0.900, test=0.709) total time=   0.5s\n",
      "[CV 2/2] END learning_rate=0.05, max_depth=2, n_estimators=1000;, score=(train=0.762, test=0.863) total time=   0.5s\n",
      "[CV 1/2] END learning_rate=0.05, max_depth=2, n_estimators=2000;, score=(train=0.906, test=0.712) total time=   1.3s\n",
      "[CV 2/2] END learning_rate=0.05, max_depth=2, n_estimators=2000;, score=(train=0.766, test=0.856) total time=   1.2s\n",
      "[CV 1/2] END learning_rate=0.05, max_depth=2, n_estimators=300;, score=(train=0.878, test=0.690) total time=   0.1s\n",
      "[CV 2/2] END learning_rate=0.05, max_depth=2, n_estimators=300;, score=(train=0.746, test=0.861) total time=   0.1s\n",
      "[CV 1/2] END learning_rate=0.05, max_depth=3, n_estimators=1000;, score=(train=0.902, test=0.707) total time=   0.6s\n",
      "[CV 2/2] END learning_rate=0.05, max_depth=3, n_estimators=1000;, score=(train=0.762, test=0.860) total time=   0.6s\n",
      "[CV 1/2] END learning_rate=0.05, max_depth=3, n_estimators=2000;, score=(train=0.909, test=0.716) total time=   1.1s\n",
      "[CV 2/2] END learning_rate=0.05, max_depth=3, n_estimators=2000;, score=(train=0.765, test=0.858) total time=   1.1s\n",
      "[CV 1/2] END learning_rate=0.05, max_depth=3, n_estimators=300;, score=(train=0.878, test=0.692) total time=   0.1s\n",
      "[CV 2/2] END learning_rate=0.05, max_depth=3, n_estimators=300;, score=(train=0.749, test=0.864) total time=   0.1s\n",
      "[CV 1/2] END learning_rate=0.05, max_depth=5, n_estimators=1000;, score=(train=0.901, test=0.707) total time=   0.5s\n",
      "[CV 2/2] END learning_rate=0.05, max_depth=5, n_estimators=1000;, score=(train=0.763, test=0.859) total time=   0.5s\n",
      "[CV 1/2] END learning_rate=0.05, max_depth=5, n_estimators=2000;, score=(train=0.910, test=0.715) total time=   1.1s\n",
      "[CV 2/2] END learning_rate=0.05, max_depth=5, n_estimators=2000;, score=(train=0.764, test=0.857) total time=   1.2s\n",
      "[CV 1/2] END learning_rate=0.05, max_depth=5, n_estimators=300;, score=(train=0.880, test=0.693) total time=   0.1s\n",
      "[CV 2/2] END learning_rate=0.05, max_depth=5, n_estimators=300;, score=(train=0.754, test=0.860) total time=   0.1s\n",
      "[CV 1/2] END learning_rate=0.1, max_depth=2, n_estimators=1000;, score=(train=0.907, test=0.708) total time=   0.6s\n",
      "[CV 2/2] END learning_rate=0.1, max_depth=2, n_estimators=1000;, score=(train=0.765, test=0.861) total time=   0.6s\n",
      "[CV 1/2] END learning_rate=0.1, max_depth=2, n_estimators=2000;, score=(train=0.911, test=0.714) total time=   1.2s\n",
      "[CV 2/2] END learning_rate=0.1, max_depth=2, n_estimators=2000;, score=(train=0.768, test=0.849) total time=   1.1s\n",
      "[CV 1/2] END learning_rate=0.1, max_depth=2, n_estimators=300;, score=(train=0.894, test=0.704) total time=   0.1s\n",
      "[CV 2/2] END learning_rate=0.1, max_depth=2, n_estimators=300;, score=(train=0.753, test=0.862) total time=   0.1s\n",
      "[CV 1/2] END learning_rate=0.1, max_depth=3, n_estimators=1000;, score=(train=0.908, test=0.708) total time=   0.6s\n",
      "[CV 2/2] END learning_rate=0.1, max_depth=3, n_estimators=1000;, score=(train=0.762, test=0.860) total time=   0.6s\n",
      "[CV 1/2] END learning_rate=0.1, max_depth=3, n_estimators=2000;, score=(train=0.910, test=0.712) total time=   1.1s\n",
      "[CV 2/2] END learning_rate=0.1, max_depth=3, n_estimators=2000;, score=(train=0.767, test=0.855) total time=   1.2s\n",
      "[CV 1/2] END learning_rate=0.1, max_depth=3, n_estimators=300;, score=(train=0.895, test=0.702) total time=   0.1s\n",
      "[CV 2/2] END learning_rate=0.1, max_depth=3, n_estimators=300;, score=(train=0.759, test=0.858) total time=   0.1s\n",
      "[CV 1/2] END learning_rate=0.1, max_depth=5, n_estimators=1000;, score=(train=0.909, test=0.709) total time=   0.6s\n",
      "[CV 2/2] END learning_rate=0.1, max_depth=5, n_estimators=1000;, score=(train=0.764, test=0.856) total time=   0.6s\n",
      "[CV 1/2] END learning_rate=0.1, max_depth=5, n_estimators=2000;, score=(train=0.911, test=0.713) total time=   1.2s\n",
      "[CV 2/2] END learning_rate=0.1, max_depth=5, n_estimators=2000;, score=(train=0.766, test=0.856) total time=   1.2s\n",
      "[CV 1/2] END learning_rate=0.1, max_depth=5, n_estimators=300;, score=(train=0.895, test=0.701) total time=   0.1s\n",
      "[CV 2/2] END learning_rate=0.1, max_depth=5, n_estimators=300;, score=(train=0.760, test=0.856) total time=   0.1s\n"
     ]
    },
    {
     "data": {
      "text/plain": [
       "GridSearchCV(cv=2,\n",
       "             estimator=XGBClassifier(base_score=None, booster=None,\n",
       "                                     callbacks=None, colsample_bylevel=None,\n",
       "                                     colsample_bynode=None,\n",
       "                                     colsample_bytree=0.25,\n",
       "                                     early_stopping_rounds=None,\n",
       "                                     enable_categorical=False,\n",
       "                                     eval_metric='auc', gamma=None, gpu_id=None,\n",
       "                                     grow_policy=None, importance_type=None,\n",
       "                                     interaction_constraints=None,\n",
       "                                     learning_rate=None, max_bin=None,\n",
       "                                     max_c...\n",
       "                                     max_leaves=None, min_child_weight=None,\n",
       "                                     missing=nan, monotone_constraints=None,\n",
       "                                     n_estimators=100, n_jobs=None,\n",
       "                                     num_parallel_tree=None, predictor=None,\n",
       "                                     random_state=None, reg_alpha=None,\n",
       "                                     reg_lambda=None, ...),\n",
       "             param_grid={'learning_rate': [0.02, 0.05, 0.1],\n",
       "                         'max_depth': [2, 3, 5],\n",
       "                         'n_estimators': [1000, 2000, 300]},\n",
       "             return_train_score=True,\n",
       "             scoring=<function my_roc_auc_score at 0x0000028E91CC08B0>,\n",
       "             verbose=4)"
      ]
     },
     "execution_count": 105,
     "metadata": {},
     "output_type": "execute_result"
    }
   ],
   "source": [
    "def my_roc_auc_score(model, X, y): return roc_auc_score(y, model.predict_proba(X)[:,1])\n",
    "\n",
    "model_xgboost_hp = GridSearchCV(estimator=xgboost.XGBClassifier(subsample=0.5,\n",
    "                                                                colsample_bytree=0.25,\n",
    "                                                                eval_metric='auc',\n",
    "                                                                use_label_encoder=False),\n",
    "                                param_grid=params_dict,\n",
    "                                cv=2,\n",
    "                                scoring=my_roc_auc_score,\n",
    "                                return_train_score=True,\n",
    "                                verbose=4)\n",
    "\n",
    "model_xgboost_hp.fit(X, y)"
   ]
  },
  {
   "cell_type": "code",
   "execution_count": 24,
   "id": "c19ec175",
   "metadata": {},
   "outputs": [],
   "source": [
    "#7.Check the results of hyperparameter tuning\n",
    "#cv_results to view the results\n",
    "#Can be coverted into pandas dataframe \n",
    "#The useful columns has been kept out of this dataframe then sorted it by 'rank_test_score'"
   ]
  },
  {
   "cell_type": "code",
   "execution_count": 25,
   "id": "dfc820d5",
   "metadata": {},
   "outputs": [
    {
     "data": {
      "text/html": [
       "<div>\n",
       "<style scoped>\n",
       "    .dataframe tbody tr th:only-of-type {\n",
       "        vertical-align: middle;\n",
       "    }\n",
       "\n",
       "    .dataframe tbody tr th {\n",
       "        vertical-align: top;\n",
       "    }\n",
       "\n",
       "    .dataframe thead th {\n",
       "        text-align: right;\n",
       "    }\n",
       "</style>\n",
       "<table border=\"1\" class=\"dataframe\">\n",
       "  <thead>\n",
       "    <tr style=\"text-align: right;\">\n",
       "      <th></th>\n",
       "      <th>rank_test_score</th>\n",
       "      <th>mean_test_score</th>\n",
       "      <th>mean_train_score</th>\n",
       "      <th>param_learning_rate</th>\n",
       "      <th>param_max_depth</th>\n",
       "      <th>param_n_estimators</th>\n",
       "    </tr>\n",
       "  </thead>\n",
       "  <tbody>\n",
       "    <tr>\n",
       "      <th>13</th>\n",
       "      <td>1</td>\n",
       "      <td>0.776920</td>\n",
       "      <td>0.834868</td>\n",
       "      <td>0.05</td>\n",
       "      <td>3</td>\n",
       "      <td>2000</td>\n",
       "    </tr>\n",
       "    <tr>\n",
       "      <th>16</th>\n",
       "      <td>2</td>\n",
       "      <td>0.776384</td>\n",
       "      <td>0.834925</td>\n",
       "      <td>0.05</td>\n",
       "      <td>5</td>\n",
       "      <td>2000</td>\n",
       "    </tr>\n",
       "    <tr>\n",
       "      <th>22</th>\n",
       "      <td>3</td>\n",
       "      <td>0.775878</td>\n",
       "      <td>0.835065</td>\n",
       "      <td>0.1</td>\n",
       "      <td>3</td>\n",
       "      <td>2000</td>\n",
       "    </tr>\n",
       "    <tr>\n",
       "      <th>10</th>\n",
       "      <td>4</td>\n",
       "      <td>0.774929</td>\n",
       "      <td>0.833208</td>\n",
       "      <td>0.05</td>\n",
       "      <td>2</td>\n",
       "      <td>2000</td>\n",
       "    </tr>\n",
       "    <tr>\n",
       "      <th>25</th>\n",
       "      <td>5</td>\n",
       "      <td>0.774583</td>\n",
       "      <td>0.836164</td>\n",
       "      <td>0.1</td>\n",
       "      <td>5</td>\n",
       "      <td>2000</td>\n",
       "    </tr>\n",
       "    <tr>\n",
       "      <th>1</th>\n",
       "      <td>6</td>\n",
       "      <td>0.774091</td>\n",
       "      <td>0.826021</td>\n",
       "      <td>0.02</td>\n",
       "      <td>2</td>\n",
       "      <td>2000</td>\n",
       "    </tr>\n",
       "    <tr>\n",
       "      <th>19</th>\n",
       "      <td>7</td>\n",
       "      <td>0.773991</td>\n",
       "      <td>0.835034</td>\n",
       "      <td>0.1</td>\n",
       "      <td>2</td>\n",
       "      <td>2000</td>\n",
       "    </tr>\n",
       "    <tr>\n",
       "      <th>4</th>\n",
       "      <td>8</td>\n",
       "      <td>0.772656</td>\n",
       "      <td>0.828406</td>\n",
       "      <td>0.02</td>\n",
       "      <td>3</td>\n",
       "      <td>2000</td>\n",
       "    </tr>\n",
       "    <tr>\n",
       "      <th>7</th>\n",
       "      <td>9</td>\n",
       "      <td>0.772009</td>\n",
       "      <td>0.829443</td>\n",
       "      <td>0.02</td>\n",
       "      <td>5</td>\n",
       "      <td>2000</td>\n",
       "    </tr>\n",
       "    <tr>\n",
       "      <th>9</th>\n",
       "      <td>10</td>\n",
       "      <td>0.771786</td>\n",
       "      <td>0.827788</td>\n",
       "      <td>0.05</td>\n",
       "      <td>2</td>\n",
       "      <td>1000</td>\n",
       "    </tr>\n",
       "    <tr>\n",
       "      <th>12</th>\n",
       "      <td>11</td>\n",
       "      <td>0.769929</td>\n",
       "      <td>0.829952</td>\n",
       "      <td>0.05</td>\n",
       "      <td>3</td>\n",
       "      <td>1000</td>\n",
       "    </tr>\n",
       "    <tr>\n",
       "      <th>18</th>\n",
       "      <td>12</td>\n",
       "      <td>0.769807</td>\n",
       "      <td>0.834894</td>\n",
       "      <td>0.1</td>\n",
       "      <td>2</td>\n",
       "      <td>1000</td>\n",
       "    </tr>\n",
       "    <tr>\n",
       "      <th>15</th>\n",
       "      <td>13</td>\n",
       "      <td>0.769113</td>\n",
       "      <td>0.830739</td>\n",
       "      <td>0.05</td>\n",
       "      <td>5</td>\n",
       "      <td>1000</td>\n",
       "    </tr>\n",
       "    <tr>\n",
       "      <th>0</th>\n",
       "      <td>14</td>\n",
       "      <td>0.768540</td>\n",
       "      <td>0.815902</td>\n",
       "      <td>0.02</td>\n",
       "      <td>2</td>\n",
       "      <td>1000</td>\n",
       "    </tr>\n",
       "    <tr>\n",
       "      <th>3</th>\n",
       "      <td>15</td>\n",
       "      <td>0.767445</td>\n",
       "      <td>0.819465</td>\n",
       "      <td>0.02</td>\n",
       "      <td>3</td>\n",
       "      <td>1000</td>\n",
       "    </tr>\n",
       "    <tr>\n",
       "      <th>20</th>\n",
       "      <td>16</td>\n",
       "      <td>0.767269</td>\n",
       "      <td>0.821019</td>\n",
       "      <td>0.1</td>\n",
       "      <td>2</td>\n",
       "      <td>300</td>\n",
       "    </tr>\n",
       "    <tr>\n",
       "      <th>8</th>\n",
       "      <td>17</td>\n",
       "      <td>0.767113</td>\n",
       "      <td>0.800734</td>\n",
       "      <td>0.02</td>\n",
       "      <td>5</td>\n",
       "      <td>300</td>\n",
       "    </tr>\n",
       "    <tr>\n",
       "      <th>23</th>\n",
       "      <td>18</td>\n",
       "      <td>0.766847</td>\n",
       "      <td>0.824131</td>\n",
       "      <td>0.1</td>\n",
       "      <td>3</td>\n",
       "      <td>300</td>\n",
       "    </tr>\n",
       "    <tr>\n",
       "      <th>21</th>\n",
       "      <td>19</td>\n",
       "      <td>0.766825</td>\n",
       "      <td>0.833830</td>\n",
       "      <td>0.1</td>\n",
       "      <td>3</td>\n",
       "      <td>1000</td>\n",
       "    </tr>\n",
       "    <tr>\n",
       "      <th>17</th>\n",
       "      <td>20</td>\n",
       "      <td>0.766820</td>\n",
       "      <td>0.818006</td>\n",
       "      <td>0.05</td>\n",
       "      <td>5</td>\n",
       "      <td>300</td>\n",
       "    </tr>\n",
       "    <tr>\n",
       "      <th>6</th>\n",
       "      <td>21</td>\n",
       "      <td>0.766657</td>\n",
       "      <td>0.821262</td>\n",
       "      <td>0.02</td>\n",
       "      <td>5</td>\n",
       "      <td>1000</td>\n",
       "    </tr>\n",
       "    <tr>\n",
       "      <th>24</th>\n",
       "      <td>22</td>\n",
       "      <td>0.766487</td>\n",
       "      <td>0.833718</td>\n",
       "      <td>0.1</td>\n",
       "      <td>5</td>\n",
       "      <td>1000</td>\n",
       "    </tr>\n",
       "    <tr>\n",
       "      <th>14</th>\n",
       "      <td>23</td>\n",
       "      <td>0.766122</td>\n",
       "      <td>0.814440</td>\n",
       "      <td>0.05</td>\n",
       "      <td>3</td>\n",
       "      <td>300</td>\n",
       "    </tr>\n",
       "    <tr>\n",
       "      <th>26</th>\n",
       "      <td>24</td>\n",
       "      <td>0.765778</td>\n",
       "      <td>0.824945</td>\n",
       "      <td>0.1</td>\n",
       "      <td>5</td>\n",
       "      <td>300</td>\n",
       "    </tr>\n",
       "    <tr>\n",
       "      <th>5</th>\n",
       "      <td>25</td>\n",
       "      <td>0.765657</td>\n",
       "      <td>0.797846</td>\n",
       "      <td>0.02</td>\n",
       "      <td>3</td>\n",
       "      <td>300</td>\n",
       "    </tr>\n",
       "    <tr>\n",
       "      <th>11</th>\n",
       "      <td>26</td>\n",
       "      <td>0.765277</td>\n",
       "      <td>0.810683</td>\n",
       "      <td>0.05</td>\n",
       "      <td>2</td>\n",
       "      <td>300</td>\n",
       "    </tr>\n",
       "    <tr>\n",
       "      <th>2</th>\n",
       "      <td>27</td>\n",
       "      <td>0.762736</td>\n",
       "      <td>0.791762</td>\n",
       "      <td>0.02</td>\n",
       "      <td>2</td>\n",
       "      <td>300</td>\n",
       "    </tr>\n",
       "  </tbody>\n",
       "</table>\n",
       "</div>"
      ],
      "text/plain": [
       "    rank_test_score  mean_test_score  mean_train_score param_learning_rate  \\\n",
       "13                1         0.776920          0.834868                0.05   \n",
       "16                2         0.776384          0.834925                0.05   \n",
       "22                3         0.775878          0.835065                 0.1   \n",
       "10                4         0.774929          0.833208                0.05   \n",
       "25                5         0.774583          0.836164                 0.1   \n",
       "1                 6         0.774091          0.826021                0.02   \n",
       "19                7         0.773991          0.835034                 0.1   \n",
       "4                 8         0.772656          0.828406                0.02   \n",
       "7                 9         0.772009          0.829443                0.02   \n",
       "9                10         0.771786          0.827788                0.05   \n",
       "12               11         0.769929          0.829952                0.05   \n",
       "18               12         0.769807          0.834894                 0.1   \n",
       "15               13         0.769113          0.830739                0.05   \n",
       "0                14         0.768540          0.815902                0.02   \n",
       "3                15         0.767445          0.819465                0.02   \n",
       "20               16         0.767269          0.821019                 0.1   \n",
       "8                17         0.767113          0.800734                0.02   \n",
       "23               18         0.766847          0.824131                 0.1   \n",
       "21               19         0.766825          0.833830                 0.1   \n",
       "17               20         0.766820          0.818006                0.05   \n",
       "6                21         0.766657          0.821262                0.02   \n",
       "24               22         0.766487          0.833718                 0.1   \n",
       "14               23         0.766122          0.814440                0.05   \n",
       "26               24         0.765778          0.824945                 0.1   \n",
       "5                25         0.765657          0.797846                0.02   \n",
       "11               26         0.765277          0.810683                0.05   \n",
       "2                27         0.762736          0.791762                0.02   \n",
       "\n",
       "   param_max_depth param_n_estimators  \n",
       "13               3               2000  \n",
       "16               5               2000  \n",
       "22               3               2000  \n",
       "10               2               2000  \n",
       "25               5               2000  \n",
       "1                2               2000  \n",
       "19               2               2000  \n",
       "4                3               2000  \n",
       "7                5               2000  \n",
       "9                2               1000  \n",
       "12               3               1000  \n",
       "18               2               1000  \n",
       "15               5               1000  \n",
       "0                2               1000  \n",
       "3                3               1000  \n",
       "20               2                300  \n",
       "8                5                300  \n",
       "23               3                300  \n",
       "21               3               1000  \n",
       "17               5                300  \n",
       "6                5               1000  \n",
       "24               5               1000  \n",
       "14               3                300  \n",
       "26               5                300  \n",
       "5                3                300  \n",
       "11               2                300  \n",
       "2                2                300  "
      ]
     },
     "execution_count": 25,
     "metadata": {},
     "output_type": "execute_result"
    }
   ],
   "source": [
    "df_cv_results = pd.DataFrame(model_xgboost_hp.cv_results_)\n",
    "df_cv_results = df_cv_results[['rank_test_score','mean_test_score','mean_train_score',\n",
    "                               'param_learning_rate', 'param_max_depth', 'param_n_estimators']]\n",
    "df_cv_results.sort_values(by='rank_test_score', inplace=True)\n",
    "df_cv_results"
   ]
  },
  {
   "cell_type": "code",
   "execution_count": 106,
   "id": "b53340b0",
   "metadata": {},
   "outputs": [],
   "source": [
    "#8.Check how does the model performance vary with respect to the no of tree and depth of tree"
   ]
  },
  {
   "cell_type": "code",
   "execution_count": 107,
   "id": "75425bca",
   "metadata": {},
   "outputs": [
    {
     "data": {
      "text/plain": [
       "Text(0.5, 1.0, 'Performance with respect to the no of Trees and Depth')"
      ]
     },
     "execution_count": 107,
     "metadata": {},
     "output_type": "execute_result"
    },
    {
     "data": {
      "image/png": "[encoded data removed]",
      "text/plain": [
       "<Figure size 720x360 with 1 Axes>"
      ]
     },
     "metadata": {
      "needs_background": "light"
     },
     "output_type": "display_data"
    }
   ],
   "source": [
    "# First the number of estimators is sorted to be used as x-axis\n",
    "df_cv_results.sort_values(by='param_n_estimators', inplace=True)\n",
    "\n",
    "# Find values of AUC for learning rate of 0.05 and different values of depth, to figure out which depth creates \n",
    "#the max no of trees for the model\n",
    "lr_d2 = df_cv_results.loc[(df_cv_results['param_learning_rate']==0.05) & (df_cv_results['param_max_depth']==2),:]\n",
    "lr_d3 = df_cv_results.loc[(df_cv_results['param_learning_rate']==0.05) & (df_cv_results['param_max_depth']==3),:]\n",
    "lr_d5 = df_cv_results.loc[(df_cv_results['param_learning_rate']==0.05) & (df_cv_results['param_max_depth']==5),:]\n",
    "\n",
    "# Plot of the Mean Validation AUC against the no of estimators\n",
    "fig, ax = plt.subplots(figsize=(10,5))\n",
    "lr_d2.plot(x='param_n_estimators', y='mean_test_score', label='Depth=2', ax=ax)\n",
    "lr_d3.plot(x='param_n_estimators', y='mean_test_score', label='Depth=3', ax=ax)\n",
    "lr_d5.plot(x='param_n_estimators', y='mean_test_score', label='Depth=5', ax=ax)\n",
    "\n",
    "plt.ylabel('Mean Validation AUC')\n",
    "plt.title('Performance with respect to the no of Trees and Depth')"
   ]
  },
  {
   "cell_type": "code",
   "execution_count": 108,
   "id": "21768cee",
   "metadata": {},
   "outputs": [],
   "source": [
    "#from the plot above, it can be conlcuded that the best performance\n",
    "#occurs when the Depth=3 and the no of trees is 2000."
   ]
  },
  {
   "cell_type": "code",
   "execution_count": 109,
   "id": "94514ed0",
   "metadata": {},
   "outputs": [],
   "source": [
    "#9.Check how the performance varies with the learning rate"
   ]
  },
  {
   "cell_type": "code",
   "execution_count": 110,
   "id": "9b0a7c42",
   "metadata": {},
   "outputs": [
    {
     "data": {
      "text/plain": [
       "Text(0.5, 1.0, 'Performance wrt learning rate')"
      ]
     },
     "execution_count": 110,
     "metadata": {},
     "output_type": "execute_result"
    },
    {
     "data": {
      "image/png": "[encoded data removed]",
      "text/plain": [
       "<Figure size 720x360 with 1 Axes>"
      ]
     },
     "metadata": {
      "needs_background": "light"
     },
     "output_type": "display_data"
    }
   ],
   "source": [
    "# The learning rate is first sorted to used as the x-axis\n",
    "df_cv_results.sort_values(by='param_learning_rate', inplace=True)\n",
    "\n",
    "# Find values of AUC for learning rate and different values of depth, when no of trees=2000\n",
    "lr_t3k_d2 = df_cv_results.loc[(df_cv_results['param_n_estimators']==2000) & (df_cv_results['param_max_depth']==3),:]\n",
    "\n",
    "# A plot of Mean Validation AUC against Performance with respect to AUC\n",
    "fig, ax = plt.subplots(figsize=(10,5))\n",
    "lr_t3k_d2.plot(x='param_learning_rate', y='mean_test_score', label='Depth=3, Trees=2000', ax=ax)\n",
    "plt.ylabel('Mean Validation AUC')\n",
    "plt.title('Performance wrt learning rate')"
   ]
  },
  {
   "cell_type": "code",
   "execution_count": 111,
   "id": "ada517d7",
   "metadata": {},
   "outputs": [],
   "source": [
    "#From the graph above, the best learning rate is around 0.05. "
   ]
  },
  {
   "cell_type": "markdown",
   "id": "49699b54-c687-48df-b3fb-097ea2ac0eb0",
   "metadata": {},
   "source": [
    "# Final model"
   ]
  },
  {
   "cell_type": "code",
   "execution_count": null,
   "id": "6290367e",
   "metadata": {},
   "outputs": [],
   "source": [
    "#10.Build xgboost classifier using the best Hyperparameters found"
   ]
  },
  {
   "cell_type": "code",
   "execution_count": null,
   "id": "4623c45f",
   "metadata": {},
   "outputs": [],
   "source": [
    "#create the final model using the best values of learning rate, max depth and no of trees."
   ]
  },
  {
   "cell_type": "code",
   "execution_count": 113,
   "id": "72c4cddf",
   "metadata": {},
   "outputs": [
    {
     "name": "stdout",
     "output_type": "stream",
     "text": [
      "[0]\tvalidation_0-auc:0.77201\tvalidation_1-auc:0.69486\n",
      "[1]\tvalidation_0-auc:0.77201\tvalidation_1-auc:0.69486\n",
      "[2]\tvalidation_0-auc:0.77895\tvalidation_1-auc:0.67732\n",
      "[3]\tvalidation_0-auc:0.77559\tvalidation_1-auc:0.71852\n",
      "[4]\tvalidation_0-auc:0.78196\tvalidation_1-auc:0.72462\n",
      "[5]\tvalidation_0-auc:0.78840\tvalidation_1-auc:0.71679\n",
      "[6]\tvalidation_0-auc:0.78840\tvalidation_1-auc:0.71679\n",
      "[7]\tvalidation_0-auc:0.78488\tvalidation_1-auc:0.73058\n",
      "[8]\tvalidation_0-auc:0.78522\tvalidation_1-auc:0.74185\n",
      "[9]\tvalidation_0-auc:0.79182\tvalidation_1-auc:0.72024\n",
      "[10]\tvalidation_0-auc:0.79221\tvalidation_1-auc:0.70912\n",
      "[11]\tvalidation_0-auc:0.79371\tvalidation_1-auc:0.70818\n",
      "[12]\tvalidation_0-auc:0.79133\tvalidation_1-auc:0.70943\n",
      "[13]\tvalidation_0-auc:0.79133\tvalidation_1-auc:0.70943\n",
      "[14]\tvalidation_0-auc:0.79113\tvalidation_1-auc:0.71100\n",
      "[15]\tvalidation_0-auc:0.79427\tvalidation_1-auc:0.71256\n",
      "[16]\tvalidation_0-auc:0.79239\tvalidation_1-auc:0.71100\n",
      "[17]\tvalidation_0-auc:0.79392\tvalidation_1-auc:0.70254\n",
      "[18]\tvalidation_0-auc:0.79154\tvalidation_1-auc:0.70473\n",
      "[19]\tvalidation_0-auc:0.79401\tvalidation_1-auc:0.69659\n",
      "[20]\tvalidation_0-auc:0.79672\tvalidation_1-auc:0.70536\n",
      "[21]\tvalidation_0-auc:0.79477\tvalidation_1-auc:0.70818\n",
      "[22]\tvalidation_0-auc:0.79250\tvalidation_1-auc:0.71256\n",
      "[23]\tvalidation_0-auc:0.79610\tvalidation_1-auc:0.71632\n",
      "[24]\tvalidation_0-auc:0.79649\tvalidation_1-auc:0.71131\n",
      "[25]\tvalidation_0-auc:0.79696\tvalidation_1-auc:0.71006\n",
      "[26]\tvalidation_0-auc:0.79790\tvalidation_1-auc:0.71413\n",
      "[27]\tvalidation_0-auc:0.79705\tvalidation_1-auc:0.71476\n",
      "[28]\tvalidation_0-auc:0.79727\tvalidation_1-auc:0.71538\n"
     ]
    },
    {
     "name": "stderr",
     "output_type": "stream",
     "text": [
      "C:\\ProgramData\\Anaconda3\\lib\\site-packages\\xgboost\\sklearn.py:793: UserWarning: `early_stopping_rounds` in `fit` method is deprecated for better compatibility with scikit-learn, use `early_stopping_rounds` in constructor or`set_params` instead.\n",
      "  warnings.warn(\n"
     ]
    },
    {
     "data": {
      "text/plain": [
       "XGBClassifier(base_score=0.5, booster='gbtree', callbacks=None,\n",
       "              colsample_bylevel=1, colsample_bynode=1, colsample_bytree=0.25,\n",
       "              early_stopping_rounds=None, enable_categorical=False,\n",
       "              eval_metric='auc', gamma=0, gpu_id=-1, grow_policy='depthwise',\n",
       "              importance_type=None, interaction_constraints='',\n",
       "              learning_rate=0.05, max_bin=256, max_cat_to_onehot=4,\n",
       "              max_delta_step=0, max_depth=3, max_leaves=0, min_child_weight=1,\n",
       "              missing=nan, monotone_constraints='()', n_estimators=2000,\n",
       "              n_jobs=0, num_parallel_tree=1, predictor='auto', random_state=0,\n",
       "              reg_alpha=0, reg_lambda=1, ...)"
      ]
     },
     "execution_count": 113,
     "metadata": {},
     "output_type": "execute_result"
    }
   ],
   "source": [
    "\n",
    "model_xgboost_fin = xgboost.XGBClassifier(learning_rate=0.05,\n",
    "                                          max_depth=3,\n",
    "                                          n_estimators=2000,\n",
    "                                          subsample=0.5,\n",
    "                                          colsample_bytree=0.25,\n",
    "                                          eval_metric='auc',\n",
    "                                          verbosity=1,\n",
    "                                          use_label_encoder=False)\n",
    "\n",
    "# Passing both training and validation dataset as we want to plot AUC for both\n",
    "eval_set = [(X_train, y_train),(X_valid, y_valid)]\n",
    "\n",
    "model_xgboost_fin.fit(X_train,\n",
    "                  y_train,\n",
    "                  early_stopping_rounds=20,#increase stopping round\n",
    "                  eval_set=eval_set,\n",
    "                  verbose=True)"
   ]
  },
  {
   "cell_type": "code",
   "execution_count": 114,
   "id": "8b4f0623",
   "metadata": {},
   "outputs": [],
   "source": [
    "#total no of trees created is 28"
   ]
  },
  {
   "cell_type": "code",
   "execution_count": 115,
   "id": "75b52487",
   "metadata": {},
   "outputs": [],
   "source": [
    "#11.Compute the perfomance of the final model by calculating the AUC value on the training \n",
    "#as well as valaidation datasets."
   ]
  },
  {
   "cell_type": "code",
   "execution_count": 116,
   "id": "c49c5c15",
   "metadata": {
    "scrolled": true
   },
   "outputs": [
    {
     "name": "stdout",
     "output_type": "stream",
     "text": [
      "AUC for Training dataset: 0.7852\n",
      "AUC for Validation dataset: 0.7419\n"
     ]
    }
   ],
   "source": [
    "y_train_pred = model_xgboost_fin.predict_proba(X_train)[:,1]\n",
    "y_valid_pred = model_xgboost_fin.predict_proba(X_valid)[:,1]\n",
    "\n",
    "print(\"AUC for Training dataset: {:.4f}\\nAUC for Validation dataset: +\n",
    "      \"{:.4f}\".format(roc_auc_score(y_train, y_train_pred),\n",
    "                                                    roc_auc_score(y_valid, y_valid_pred)))"
   ]
  },
  {
   "cell_type": "code",
   "execution_count": null,
   "id": "a3dc89c8",
   "metadata": {},
   "outputs": [],
   "source": [
    "#from the results, the validation dataset has increased by 3% & the values of traning & validation are close to each other."
   ]
  },
  {
   "cell_type": "code",
   "execution_count": 117,
   "id": "57d1f983",
   "metadata": {},
   "outputs": [],
   "source": [
    "#12.Find out which features is more important -display in descending order "
   ]
  },
  {
   "cell_type": "code",
   "execution_count": 118,
   "id": "47934b09",
   "metadata": {},
   "outputs": [
    {
     "data": {
      "text/html": [
       "<div>\n",
       "<style scoped>\n",
       "    .dataframe tbody tr th:only-of-type {\n",
       "        vertical-align: middle;\n",
       "    }\n",
       "\n",
       "    .dataframe tbody tr th {\n",
       "        vertical-align: top;\n",
       "    }\n",
       "\n",
       "    .dataframe thead th {\n",
       "        text-align: right;\n",
       "    }\n",
       "</style>\n",
       "<table border=\"1\" class=\"dataframe\">\n",
       "  <thead>\n",
       "    <tr style=\"text-align: right;\">\n",
       "      <th></th>\n",
       "      <th>Feature</th>\n",
       "      <th>Importance</th>\n",
       "    </tr>\n",
       "  </thead>\n",
       "  <tbody>\n",
       "    <tr>\n",
       "      <th>5</th>\n",
       "      <td>Probability of Depression</td>\n",
       "      <td>0.634099</td>\n",
       "    </tr>\n",
       "    <tr>\n",
       "      <th>0</th>\n",
       "      <td>Weight loss/lack of appetite</td>\n",
       "      <td>0.179596</td>\n",
       "    </tr>\n",
       "    <tr>\n",
       "      <th>2</th>\n",
       "      <td>Vitamin deficiency</td>\n",
       "      <td>0.087929</td>\n",
       "    </tr>\n",
       "    <tr>\n",
       "      <th>3</th>\n",
       "      <td>Productivity level</td>\n",
       "      <td>0.054240</td>\n",
       "    </tr>\n",
       "    <tr>\n",
       "      <th>4</th>\n",
       "      <td>Performance in academic life</td>\n",
       "      <td>0.044136</td>\n",
       "    </tr>\n",
       "    <tr>\n",
       "      <th>1</th>\n",
       "      <td>Social/Anti-social</td>\n",
       "      <td>0.000000</td>\n",
       "    </tr>\n",
       "  </tbody>\n",
       "</table>\n",
       "</div>"
      ],
      "text/plain": [
       "                        Feature  Importance\n",
       "5     Probability of Depression    0.634099\n",
       "0  Weight loss/lack of appetite    0.179596\n",
       "2            Vitamin deficiency    0.087929\n",
       "3            Productivity level    0.054240\n",
       "4  Performance in academic life    0.044136\n",
       "1            Social/Anti-social    0.000000"
      ]
     },
     "execution_count": 118,
     "metadata": {},
     "output_type": "execute_result"
    }
   ],
   "source": [
    "df_var_imp = pd.DataFrame({\"Feature\": var_columns,\n",
    "                           \"Importance\": model_xgboost_fin.feature_importances_}) \\\n",
    "                        .sort_values(by='Importance', ascending=False)\n",
    "df_var_imp[:6]"
   ]
  },
  {
   "cell_type": "code",
   "execution_count": 65,
   "id": "aa1b921f",
   "metadata": {},
   "outputs": [],
   "source": [
    "#from the results, the most important feature that indicates that a person is \n",
    "#depressed is Weight loss/lack of appetite however all the others can also be a sign of depression."
   ]
  }
 ],
 "metadata": {
  "kernelspec": {
   "display_name": "Python 3 (ipykernel)",
   "language": "python",
   "name": "python3"
  },
  "language_info": {
   "codemirror_mode": {
    "name": "ipython",
    "version": 3
   },
   "file_extension": ".py",
   "mimetype": "text/x-python",
   "name": "python",
   "nbconvert_exporter": "python",
   "pygments_lexer": "ipython3",
   "version": "3.9.7"
  }
 },
 "nbformat": 4,
 "nbformat_minor": 5
}
